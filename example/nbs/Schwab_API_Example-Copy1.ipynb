{
 "cells": [
  {
   "cell_type": "markdown",
   "metadata": {
    "colab_type": "text",
    "id": "view-in-github"
   },
   "source": [
    "<a href=\"https://colab.research.google.com/github/itsjafer/schwab-api/blob/main/Schwab_API_Example.ipynb\" target=\"_parent\"><img src=\"https://colab.research.google.com/assets/colab-badge.svg\" alt=\"Open In Colab\"/></a>"
   ]
  },
  {
   "cell_type": "markdown",
   "metadata": {
    "id": "zQJkMkht9n3v"
   },
   "source": [
    "# Schwab API\n",
    "\n",
    "This is an notebook used to demonstrate the [Schwab API](https://github.com/itsjafer/schwab-api). You must install dependencies, update the main.py with your credentials, and then run it using the final cell."
   ]
  },
  {
   "cell_type": "markdown",
   "metadata": {
    "id": "D0pYkGrezuwl"
   },
   "source": [
    "# Install Dependencies"
   ]
  },
  {
   "cell_type": "code",
   "execution_count": null,
   "metadata": {
    "id": "9wX1XwcN0SW4"
   },
   "outputs": [],
   "source": [
    "!apt-get update && apt-get install libx11-dev libxkbfile-dev libsecret-1-dev libnss3 libgbm-dev gconf-service libasound2 libatk1.0-0 libc6 libcairo2 libcups2 libdbus-1-3 \\\n",
    "    libexpat1 libfontconfig1 libgcc1 libgconf-2-4 libgdk-pixbuf2.0-0 libglib2.0-0 libgtk-3-0 libnspr4 \\\n",
    "    libpango-1.0-0 libpangocairo-1.0-0 libstdc++6 libx11-6 libx11-xcb1 libxcb1 libxcomposite1 \\\n",
    "    libxcursor1 libxdamage1 libxext6 libxfixes3 libxi6 libxrandr2 libxrender1 libxss1 libxtst6 \\\n",
    "    ca-certificates fonts-liberation libappindicator1 libnss3 lsb-release xdg-utils wget \\\n",
    "    xvfb x11vnc x11-xkb-utils xfonts-100dpi xfonts-75dpi xfonts-scalable xfonts-cyrillic x11-apps gconf-service libasound2 libatk1.0-0 libc6 libcairo2 libcups2 libdbus-1-3 libexpat1 libfontconfig1 libgcc1 libgconf-2-4 libgdk-pixbuf2.0-0 libglib2.0-0 libgtk-3-0 libnspr4 libpango-1.0-0 libpangocairo-1.0-0 libstdc++6 libx11-6 libx11-xcb1 libxcb1 libxcomposite1 libxcursor1 libxdamage1 libxext6 libxfixes3 libxi6 libxrandr2 libxrender1 libxss1 libxtst6 ca-certificates fonts-liberation libappindicator1 libnss3 lsb-release xdg-utils wget x11vnc x11-xkb-utils xfonts-100dpi xfonts-75dpi xfonts-scalable xfonts-cyrillic x11-apps xvfb\n",
    "\n",
    "%env DISPLAY=:99\n",
    "%env PYTHONUNBUFFERED=True\n",
    "\n",
    "!pip install schwab-api==0.2.2 --no-cache-dir\n",
    "!python -m playwright install\n",
    "!npx playwright install-deps"
   ]
  },
  {
   "cell_type": "markdown",
   "metadata": {
    "id": "94H9PLvK1iDp"
   },
   "source": [
    "# Write our script that we'll be running\n"
   ]
  },
  {
   "cell_type": "code",
   "execution_count": null,
   "metadata": {
    "id": "We8KtZjUVDZY"
   },
   "outputs": [],
   "source": [
    "%%writefile main.py\n",
    "from schwab_api import Schwab\n",
    "import pprint\n",
    "\n",
    "# Change these variables\n",
    "username = \"username\"\n",
    "password = \"password\"\n",
    "totp_secret = \"ABCDEFGHIJKLMNOPQRSTUVWXYZABCDEF\"\n",
    "\n",
    "# Create the schwab instance\n",
    "api = Schwab(\n",
    "    headless=True, \n",
    "    browserType=\"webkit\"\n",
    ")\n",
    "\n",
    "# Login using playwright\n",
    "print(\"Logging into Schwab\")\n",
    "logged_in = api.login(\n",
    "    username=username,\n",
    "    password=password,\n",
    "    totp_secret=totp_secret # Get this by generating TOTP at https://itsjafer.com/#/schwab\n",
    ")\n",
    "\n",
    "# Get information about all accounts holdings\n",
    "print(\"Getting account holdings information\")\n",
    "account_info = api.get_account_info()\n",
    "pprint.pprint(account_info)\n",
    "print(\"The following account numbers were found: \" + str(account_info.keys()))\n",
    "\n",
    "\n",
    "# Place a dry run trade for each account\n",
    "print(\"Placing a dry run trade for AAPL stock\")\n",
    "messages, success = api.trade(\n",
    "    ticker=\"AAPL\", \n",
    "    side=\"Buy\", #or Sell\n",
    "    qty=1, \n",
    "    account_id=next(iter(account_info)), # Replace with your account number\n",
    "    dry_run=True # If dry_run=True, we won't place the order, we'll just verify it.\n",
    ")\n",
    "\n",
    "print(\"The order verification was \" + \"successful\" if success else \"unsuccessful\")\n",
    "print(\"The order verification produced the following messages: \")\n",
    "pprint.pprint(messages)"
   ]
  },
  {
   "cell_type": "markdown",
   "metadata": {
    "id": "T353KYZ88_RF"
   },
   "source": [
    "# Run the script"
   ]
  },
  {
   "cell_type": "code",
   "execution_count": null,
   "metadata": {
    "id": "pxoXIr2H6Ior"
   },
   "outputs": [],
   "source": [
    "!python main.py"
   ]
  }
 ],
 "metadata": {
  "colab": {
   "authorship_tag": "ABX9TyPpC4JgQPyLcyoL9Y0swDjw",
   "collapsed_sections": [],
   "include_colab_link": true,
   "name": "Schwab API Example.ipynb",
   "provenance": [],
   "toc_visible": true
  },
  "kernelspec": {
   "display_name": "Python 3",
   "name": "python3"
  },
  "language_info": {
   "name": "python"
  }
 },
 "nbformat": 4,
 "nbformat_minor": 0
}
