{
 "cells": [
  {
   "cell_type": "markdown",
   "metadata": {
    "colab_type": "text",
    "id": "view-in-github"
   },
   "source": [
    "<a href=\"https://colab.research.google.com/github/itsjafer/schwab-api/blob/main/Schwab_API_Example.ipynb\" target=\"_parent\"><img src=\"https://colab.research.google.com/assets/colab-badge.svg\" alt=\"Open In Colab\"/></a>"
   ]
  },
  {
   "cell_type": "markdown",
   "metadata": {
    "id": "zQJkMkht9n3v"
   },
   "source": [
    "# Schwab API\n",
    "\n",
    "This is an notebook used to demonstrate the [Schwab API](https://github.com/itsjafer/schwab-api). You must install dependencies, update the main.py with your credentials, and then run it using the final cell."
   ]
  },
  {
   "cell_type": "code",
   "execution_count": 11,
   "metadata": {},
   "outputs": [],
   "source": [
    "# Seeing what's installed\n",
    "\n",
    "import pandas as pd\n",
    "from pathlib import Path\n",
    "import re"
   ]
  },
  {
   "cell_type": "code",
   "execution_count": 5,
   "metadata": {},
   "outputs": [
    {
     "name": "stdout",
     "output_type": "stream",
     "text": [
      "\n",
      "WARNING: apt does not have a stable CLI interface. Use with caution in scripts.\n",
      "\n"
     ]
    }
   ],
   "source": [
    "!apt list --installed > installed_packages.txt"
   ]
  },
  {
   "cell_type": "code",
   "execution_count": 6,
   "metadata": {},
   "outputs": [],
   "source": [
    "with open('installed_packages.txt') as f:\n",
    "    ip = f.read()"
   ]
  },
  {
   "cell_type": "code",
   "execution_count": null,
   "metadata": {},
   "outputs": [],
   "source": []
  },
  {
   "cell_type": "code",
   "execution_count": 9,
   "metadata": {},
   "outputs": [],
   "source": [
    "pks = [_ for _ in (\"libx11-dev libxkbfile-dev libsecret-1-dev libnss3 libgbm-dev gconf-service libasound2 libatk1.0-0 libc6 libcairo2 libcups2 libdbus-1-3   libexpat1 libfontconfig1 libgcc1 libgconf-2-4 libgdk-pixbuf2.0-0 libglib2.0-0 libgtk-3-0 libnspr4 \"\n",
    "  \"  libpango-1.0-0 libpangocairo-1.0-0 libstdc++6 libx11-6 libx11-xcb1 libxcb1 libxcomposite1     libxcursor1 libxdamage1 libxext6 libxfixes3 libxi6 libxrandr2 libxrender1 libxss1 libxtst6 \"\n",
    "   \" ca-certificates fonts-liberation libappindicator1 libnss3 lsb-release xdg-utils wget     xvfb x11vnc x11-xkb-utils xfonts-100dpi xfonts-75dpi xfonts-scalable xfonts-cyrillic x11-apps gconf-service libasound2 libatk1.0-0 libc6 libcairo2 libcups2 libdbus-1-3 libexpat1 libfontconfig1 libgcc1 libgconf-2-4 libgdk-pixbuf2.0-0 libglib2.0-0 libgtk-3-0 libnspr4 libpango-1.0-0 libpangocairo-1.0-0 libstdc++6 libx11-6 libx11-xcb1 libxcb1 libxcomposite1 libxcursor1 libxdamage1 libxext6 libxfixes3 libxi6 libxrandr2 libxrender1 libxss1 libxtst6 ca-certificates fonts-liberation libappindicator1 libnss3 lsb-release xdg-utils wget x11vnc x11-xkb-utils xfonts-100dpi xfonts-75dpi xfonts-scalable xfonts-cyrillic x11-apps xvfb\"\n",
    "                  ).split(' ') if len(_)]\n"
   ]
  },
  {
   "cell_type": "markdown",
   "metadata": {},
   "source": [
    "    [_ for _ in pks if not _ in ip]\n",
    "    \n",
    "    ['libxkbfile-dev',\n",
    "     'libgbm-dev',\n",
    "     'libgcc1',\n",
    "     'xvfb',\n",
    "     'x11vnc',\n",
    "     'xfonts-100dpi',\n",
    "     'xfonts-75dpi',\n",
    "     'libgcc1',\n",
    "     'x11vnc',\n",
    "     'xfonts-100dpi',\n",
    "     'xfonts-75dpi',\n",
    "     'xvfb']"
   ]
  },
  {
   "cell_type": "code",
   "execution_count": null,
   "metadata": {},
   "outputs": [],
   "source": []
  },
  {
   "cell_type": "code",
   "execution_count": null,
   "metadata": {},
   "outputs": [],
   "source": []
  },
  {
   "cell_type": "code",
   "execution_count": null,
   "metadata": {},
   "outputs": [],
   "source": []
  },
  {
   "cell_type": "code",
   "execution_count": null,
   "metadata": {},
   "outputs": [],
   "source": []
  },
  {
   "cell_type": "code",
   "execution_count": null,
   "metadata": {},
   "outputs": [],
   "source": []
  },
  {
   "cell_type": "markdown",
   "metadata": {
    "id": "D0pYkGrezuwl"
   },
   "source": [
    "# Install Dependencies"
   ]
  },
  {
   "cell_type": "code",
   "execution_count": null,
   "metadata": {
    "id": "9wX1XwcN0SW4"
   },
   "outputs": [
    {
     "name": "stdout",
     "output_type": "stream",
     "text": [
      "Reading package lists... Done\n",
      "E: Could not open lock file /var/lib/apt/lists/lock - open (13: Permission denied)\n",
      "E: Unable to lock directory /var/lib/apt/lists/\n",
      "W: Problem unlinking the file /var/cache/apt/pkgcache.bin - RemoveCaches (13: Permission denied)\n",
      "W: Problem unlinking the file /var/cache/apt/srcpkgcache.bin - RemoveCaches (13: Permission denied)\n",
      "env: DISPLAY=:99\n",
      "env: PYTHONUNBUFFERED=True\n",
      "Collecting schwab-api==0.2.2\n",
      "  Downloading schwab_api-0.2.2.tar.gz (7.9 kB)\n",
      "  Preparing metadata (setup.py) ... \u001b[?25ldone\n",
      "\u001b[?25hCollecting playwright (from schwab-api==0.2.2)\n",
      "  Obtaining dependency information for playwright from https://files.pythonhosted.org/packages/5b/57/2f104314c986805b183607919382344cac891d63a111fb66c9e795f7866a/playwright-1.41.1-py3-none-manylinux1_x86_64.whl.metadata\n",
      "  Downloading playwright-1.41.1-py3-none-manylinux1_x86_64.whl.metadata (3.6 kB)\n",
      "Collecting playwright-stealth (from schwab-api==0.2.2)\n",
      "  Obtaining dependency information for playwright-stealth from https://files.pythonhosted.org/packages/34/10/60981cb8d8e22487061b98a0803313c4fb519cc95ab1421516304a0cfcd0/playwright_stealth-1.0.6-py3-none-any.whl.metadata\n",
      "  Downloading playwright_stealth-1.0.6-py3-none-any.whl.metadata (2.2 kB)\n",
      "Collecting pyotp (from schwab-api==0.2.2)\n",
      "  Obtaining dependency information for pyotp from https://files.pythonhosted.org/packages/c3/c0/c33c8792c3e50193ef55adb95c1c3c2786fe281123291c2dbf0eaab95a6f/pyotp-2.9.0-py3-none-any.whl.metadata\n",
      "  Downloading pyotp-2.9.0-py3-none-any.whl.metadata (9.8 kB)\n",
      "Collecting python-vipaccess (from schwab-api==0.2.2)\n",
      "  Downloading python_vipaccess-0.14.1-py3-none-any.whl (18 kB)\n",
      "Collecting greenlet==3.0.3 (from playwright->schwab-api==0.2.2)\n",
      "  Obtaining dependency information for greenlet==3.0.3 from https://files.pythonhosted.org/packages/24/35/945d5b10648fec9b20bcc6df8952d20bb3bba76413cd71c1fdbee98f5616/greenlet-3.0.3-cp310-cp310-manylinux_2_24_x86_64.manylinux_2_28_x86_64.whl.metadata\n",
      "  Downloading greenlet-3.0.3-cp310-cp310-manylinux_2_24_x86_64.manylinux_2_28_x86_64.whl.metadata (3.8 kB)\n",
      "Collecting pyee==11.0.1 (from playwright->schwab-api==0.2.2)\n",
      "  Obtaining dependency information for pyee==11.0.1 from https://files.pythonhosted.org/packages/7a/40/bfe7fd2cb55ca7dbb4c56e9f0060567c3e84dd9bdf8a782261f1d2d7c32f/pyee-11.0.1-py3-none-any.whl.metadata\n",
      "  Downloading pyee-11.0.1-py3-none-any.whl.metadata (2.7 kB)\n",
      "Requirement already satisfied: typing-extensions in /home/brian/miniforge3/lib/python3.10/site-packages (from pyee==11.0.1->playwright->schwab-api==0.2.2) (4.9.0)\n",
      "Collecting pycryptodome>=3.6.6 (from python-vipaccess->schwab-api==0.2.2)\n",
      "  Obtaining dependency information for pycryptodome>=3.6.6 from https://files.pythonhosted.org/packages/af/20/5f29ec45462360e7f61e8688af9fe4a0afae057edfabdada662e11bf97e7/pycryptodome-3.20.0-cp35-abi3-manylinux_2_17_x86_64.manylinux2014_x86_64.whl.metadata\n",
      "  Downloading pycryptodome-3.20.0-cp35-abi3-manylinux_2_17_x86_64.manylinux2014_x86_64.whl.metadata (3.4 kB)\n",
      "Collecting oath>=1.4.1 (from python-vipaccess->schwab-api==0.2.2)\n",
      "  Downloading oath-1.4.4-py3-none-any.whl (13 kB)\n",
      "Requirement already satisfied: requests in /home/brian/miniforge3/lib/python3.10/site-packages (from python-vipaccess->schwab-api==0.2.2) (2.31.0)\n",
      "Requirement already satisfied: charset-normalizer<4,>=2 in /home/brian/miniforge3/lib/python3.10/site-packages (from requests->python-vipaccess->schwab-api==0.2.2) (3.3.2)\n",
      "Requirement already satisfied: idna<4,>=2.5 in /home/brian/miniforge3/lib/python3.10/site-packages (from requests->python-vipaccess->schwab-api==0.2.2) (3.6)\n",
      "Requirement already satisfied: urllib3<3,>=1.21.1 in /home/brian/miniforge3/lib/python3.10/site-packages (from requests->python-vipaccess->schwab-api==0.2.2) (2.1.0)\n",
      "Requirement already satisfied: certifi>=2017.4.17 in /home/brian/miniforge3/lib/python3.10/site-packages (from requests->python-vipaccess->schwab-api==0.2.2) (2023.11.17)\n",
      "Downloading playwright-1.41.1-py3-none-manylinux1_x86_64.whl (37.4 MB)\n",
      "\u001b[2K   \u001b[38;2;114;156;31m━━━━━━━━━━━━━━━━━━━━━━━━━━━━━━━━━━━━━━━━\u001b[0m \u001b[32m37.4/37.4 MB\u001b[0m \u001b[31m115.4 MB/s\u001b[0m eta \u001b[36m0:00:00\u001b[0mm eta \u001b[36m0:00:01\u001b[0m0:01\u001b[0m:01\u001b[0m\n",
      "\u001b[?25hDownloading greenlet-3.0.3-cp310-cp310-manylinux_2_24_x86_64.manylinux_2_28_x86_64.whl (616 kB)\n",
      "\u001b[2K   \u001b[38;2;114;156;31m━━━━━━━━━━━━━━━━━━━━━━━━━━━━━━━━━━━━━━━\u001b[0m \u001b[32m616.0/616.0 kB\u001b[0m \u001b[31m166.9 MB/s\u001b[0m eta \u001b[36m0:00:00\u001b[0m\n",
      "\u001b[?25hDownloading pyee-11.0.1-py3-none-any.whl (15 kB)\n",
      "Downloading playwright_stealth-1.0.6-py3-none-any.whl (28 kB)\n",
      "Downloading pyotp-2.9.0-py3-none-any.whl (13 kB)\n",
      "Downloading pycryptodome-3.20.0-cp35-abi3-manylinux_2_17_x86_64.manylinux2014_x86_64.whl (2.1 MB)\n",
      "\u001b[2K   \u001b[38;2;114;156;31m━━━━━━━━━━━━━━━━━━━━━━━━━━━━━━━━━━━━━━━━\u001b[0m \u001b[32m2.1/2.1 MB\u001b[0m \u001b[31m123.8 MB/s\u001b[0m eta \u001b[36m0:00:00\u001b[0m\n",
      "\u001b[?25hBuilding wheels for collected packages: schwab-api\n",
      "  Building wheel for schwab-api (setup.py) ... \u001b[?25ldone\n",
      "\u001b[?25h  Created wheel for schwab-api: filename=schwab_api-0.2.2-py3-none-any.whl size=8706 sha256=eea8102bdb0516433a266cd7ec2101a90afab4b5c9baa21181abea3672e357d9\n",
      "  Stored in directory: /tmp/pip-ephem-wheel-cache-cna1ochp/wheels/54/84/4b/6eebb2d740ec064db8613eceb4a12e1f862a9c98bf34c15d43\n",
      "Successfully built schwab-api\n",
      "Installing collected packages: oath, pyotp, pyee, pycryptodome, greenlet, python-vipaccess, playwright, playwright-stealth, schwab-api\n",
      "Successfully installed greenlet-3.0.3 oath-1.4.4 playwright-1.41.1 playwright-stealth-1.0.6 pycryptodome-3.20.0 pyee-11.0.1 pyotp-2.9.0 python-vipaccess-0.14.1 schwab-api-0.2.2\n",
      "Downloading Chromium 121.0.6167.57 (playwright build v1097)\u001b[2m from https://playwright.azureedge.net/builds/chromium/1097/chromium-linux.zip\u001b[22m\n",
      "\u001b[1G152.8 MiB [                    ] 0% 0.0s\u001b[0K\u001b[1G152.8 MiB [                    ] 0% 7.2s\u001b[0K\u001b[1G152.8 MiB [                    ] 0% 6.3s\u001b[0K\u001b[1G152.8 MiB [                    ] 0% 5.5s\u001b[0K\u001b[1G152.8 MiB [                    ] 1% 4.7s\u001b[0K\u001b[1G152.8 MiB [                    ] 2% 4.0s\u001b[0K\u001b[1G152.8 MiB [=                   ] 2% 3.4s\u001b[0K\u001b[1G152.8 MiB [=                   ] 3% 2.9s\u001b[0K\u001b[1G152.8 MiB [=                   ] 4% 2.5s\u001b[0K\u001b[1G152.8 MiB [=                   ] 6% 2.3s\u001b[0K\u001b[1G152.8 MiB [=                   ] 7% 2.1s\u001b[0K\u001b[1G152.8 MiB [==                  ] 8% 1.9s\u001b[0K\u001b[1G152.8 MiB [==                  ] 9% 1.9s\u001b[0K\u001b[1G152.8 MiB [==                  ] 10% 1.8s\u001b[0K\u001b[1G152.8 MiB [==                  ] 11% 1.7s\u001b[0K\u001b[1G152.8 MiB [===                 ] 12% 1.7s\u001b[0K\u001b[1G152.8 MiB [===                 ] 13% 1.7s\u001b[0K\u001b[1G152.8 MiB [===                 ] 14% 1.6s\u001b[0K\u001b[1G152.8 MiB [===                 ] 15% 1.6s\u001b[0K\u001b[1G152.8 MiB [===                 ] 16% 1.5s\u001b[0K\u001b[1G152.8 MiB [====                ] 17% 1.5s\u001b[0K\u001b[1G152.8 MiB [====                ] 19% 1.5s\u001b[0K\u001b[1G152.8 MiB [====                ] 20% 1.4s\u001b[0K\u001b[1G152.8 MiB [====                ] 21% 1.4s\u001b[0K\u001b[1G152.8 MiB [====                ] 22% 1.3s\u001b[0K\u001b[1G152.8 MiB [=====               ] 23% 1.3s\u001b[0K\u001b[1G152.8 MiB [=====               ] 24% 1.3s\u001b[0K\u001b[1G152.8 MiB [=====               ] 25% 1.3s\u001b[0K\u001b[1G152.8 MiB [=====               ] 27% 1.2s\u001b[0K\u001b[1G152.8 MiB [======              ] 28% 1.2s\u001b[0K\u001b[1G152.8 MiB [======              ] 29% 1.2s\u001b[0K\u001b[1G152.8 MiB [======              ] 30% 1.2s\u001b[0K\u001b[1G152.8 MiB [======              ] 32% 1.1s\u001b[0K\u001b[1G152.8 MiB [=======             ] 33% 1.1s\u001b[0K\u001b[1G152.8 MiB [=======             ] 35% 1.1s\u001b[0K\u001b[1G152.8 MiB [=======             ] 36% 1.1s\u001b[0K\u001b[1G152.8 MiB [=======             ] 37% 1.0s\u001b[0K\u001b[1G152.8 MiB [========            ] 38% 1.0s\u001b[0K\u001b[1G152.8 MiB [========            ] 39% 1.0s\u001b[0K\u001b[1G152.8 MiB [========            ] 40% 1.0s\u001b[0K\u001b[1G152.8 MiB [========            ] 41% 0.9s\u001b[0K\u001b[1G152.8 MiB [=========           ] 43% 0.9s\u001b[0K\u001b[1G152.8 MiB [=========           ] 44% 0.9s\u001b[0K\u001b[1G152.8 MiB [=========           ] 45% 0.9s\u001b[0K\u001b[1G152.8 MiB [=========           ] 46% 0.9s\u001b[0K\u001b[1G152.8 MiB [==========          ] 47% 0.8s\u001b[0K\u001b[1G152.8 MiB [==========          ] 48% 0.8s\u001b[0K\u001b[1G152.8 MiB [==========          ] 50% 0.8s\u001b[0K\u001b[1G152.8 MiB [==========          ] 51% 0.8s\u001b[0K\u001b[1G152.8 MiB [==========          ] 52% 0.7s\u001b[0K\u001b[1G152.8 MiB [===========         ] 53% 0.7s\u001b[0K\u001b[1G152.8 MiB [===========         ] 54% 0.7s\u001b[0K\u001b[1G152.8 MiB [===========         ] 55% 0.7s\u001b[0K\u001b[1G152.8 MiB [===========         ] 56% 0.7s\u001b[0K\u001b[1G152.8 MiB [============        ] 58% 0.7s\u001b[0K\u001b[1G152.8 MiB [============        ] 59% 0.6s\u001b[0K\u001b[1G152.8 MiB [============        ] 60% 0.6s\u001b[0K\u001b[1G152.8 MiB [============        ] 61% 0.6s\u001b[0K\u001b[1G152.8 MiB [=============       ] 62% 0.6s\u001b[0K\u001b[1G152.8 MiB [=============       ] 63% 0.6s\u001b[0K\u001b[1G152.8 MiB [=============       ] 64% 0.5s\u001b[0K\u001b[1G152.8 MiB [=============       ] 66% 0.5s\u001b[0K\u001b[1G152.8 MiB [=============       ] 67% 0.5s\u001b[0K\u001b[1G152.8 MiB [==============      ] 68% 0.5s\u001b[0K\u001b[1G152.8 MiB [==============      ] 69% 0.5s\u001b[0K\u001b[1G152.8 MiB [==============      ] 70% 0.4s\u001b[0K\u001b[1G152.8 MiB [==============      ] 71% 0.4s\u001b[0K\u001b[1G152.8 MiB [===============     ] 73% 0.4s\u001b[0K\u001b[1G152.8 MiB [===============     ] 74% 0.4s\u001b[0K\u001b[1G152.8 MiB [===============     ] 75% 0.4s\u001b[0K\u001b[1G152.8 MiB [===============     ] 76% 0.4s\u001b[0K\u001b[1G152.8 MiB [================    ] 77% 0.3s\u001b[0K\u001b[1G152.8 MiB [================    ] 78% 0.3s\u001b[0K\u001b[1G152.8 MiB [================    ] 79% 0.3s\u001b[0K\u001b[1G152.8 MiB [================    ] 81% 0.3s\u001b[0K\u001b[1G152.8 MiB [================    ] 82% 0.3s\u001b[0K\u001b[1G152.8 MiB [=================   ] 83% 0.3s\u001b[0K\u001b[1G152.8 MiB [=================   ] 84% 0.2s\u001b[0K\u001b[1G152.8 MiB [=================   ] 85% 0.2s\u001b[0K\u001b[1G152.8 MiB [=================   ] 86% 0.2s\u001b[0K\u001b[1G152.8 MiB [==================  ] 87% 0.2s\u001b[0K\u001b[1G152.8 MiB [==================  ] 88% 0.2s\u001b[0K\u001b[1G152.8 MiB [==================  ] 90% 0.1s\u001b[0K\u001b[1G152.8 MiB [==================  ] 91% 0.1s\u001b[0K\u001b[1G152.8 MiB [==================  ] 92% 0.1s\u001b[0K\u001b[1G152.8 MiB [=================== ] 93% 0.1s\u001b[0K\u001b[1G152.8 MiB [=================== ] 94% 0.1s\u001b[0K\u001b[1G152.8 MiB [=================== ] 95% 0.1s\u001b[0K\u001b[1G152.8 MiB [=================== ] 96% 0.0s\u001b[0K\u001b[1G152.8 MiB [====================] 97% 0.0s\u001b[0K\u001b[1G152.8 MiB [====================] 99% 0.0s\u001b[0K\u001b[1G152.8 MiB [====================] 100% 0.0s\u001b[0K\n",
      "Chromium 121.0.6167.57 (playwright build v1097) downloaded to /home/brian/.cache/ms-playwright/chromium-1097\n",
      "Downloading Firefox 121.0 (playwright build v1438)\u001b[2m from https://playwright.azureedge.net/builds/firefox/1438/firefox-ubuntu-22.04.zip\u001b[22m\n",
      "\u001b[1G82.2 MiB [                    ] 0% 0.0s\u001b[0K\u001b[1G82.2 MiB [                    ] 1% 1.5s\u001b[0K\u001b[1G82.2 MiB [                    ] 1% 1.7s\u001b[0K\u001b[1G82.2 MiB [=                   ] 3% 1.2s\u001b[0K\u001b[1G82.2 MiB [=                   ] 5% 1.0s\u001b[0K\u001b[1G82.2 MiB [==                  ] 8% 0.9s\u001b[0K\u001b[1G82.2 MiB [==                  ] 10% 0.8s\u001b[0K\u001b[1G82.2 MiB [==                  ] 11% 0.9s\u001b[0K\u001b[1G82.2 MiB [===                 ] 13% 0.8s\u001b[0K\u001b[1G82.2 MiB [===                 ] 15% 0.8s\u001b[0K\u001b[1G82.2 MiB [====                ] 18% 0.8s\u001b[0K\u001b[1G82.2 MiB [====                ] 19% 1.2s\u001b[0K\u001b[1G82.2 MiB [====                ] 19% 1.3s\u001b[0K\u001b[1G82.2 MiB [====                ] 19% 1.4s\u001b[0K\u001b[1G82.2 MiB [====                ] 20% 1.4s\u001b[0K\u001b[1G82.2 MiB [====                ] 20% 1.5s\u001b[0K\u001b[1G82.2 MiB [====                ] 21% 1.5s\u001b[0K\u001b[1G82.2 MiB [=====               ] 23% 1.4s\u001b[0K\u001b[1G82.2 MiB [=====               ] 25% 1.3s\u001b[0K\u001b[1G82.2 MiB [======              ] 28% 1.2s\u001b[0K\u001b[1G82.2 MiB [======              ] 30% 1.1s\u001b[0K\u001b[1G82.2 MiB [======              ] 31% 1.1s\u001b[0K\u001b[1G82.2 MiB [=======             ] 33% 1.0s\u001b[0K\u001b[1G82.2 MiB [=======             ] 35% 1.0s\u001b[0K\u001b[1G82.2 MiB [========            ] 37% 0.9s\u001b[0K\u001b[1G82.2 MiB [========            ] 38% 1.0s\u001b[0K\u001b[1G82.2 MiB [========            ] 39% 1.0s\u001b[0K\u001b[1G82.2 MiB [========            ] 40% 1.0s\u001b[0K\u001b[1G82.2 MiB [========            ] 41% 1.0s\u001b[0K\u001b[1G82.2 MiB [=========           ] 43% 1.0s\u001b[0K\u001b[1G82.2 MiB [=========           ] 45% 0.9s\u001b[0K\u001b[1G82.2 MiB [==========          ] 47% 0.8s\u001b[0K\u001b[1G82.2 MiB [==========          ] 49% 0.8s\u001b[0K\u001b[1G82.2 MiB [==========          ] 51% 0.8s\u001b[0K\u001b[1G82.2 MiB [===========         ] 53% 0.7s\u001b[0K\u001b[1G82.2 MiB [===========         ] 55% 0.7s\u001b[0K\u001b[1G82.2 MiB [============        ] 57% 0.6s\u001b[0K\u001b[1G82.2 MiB [============        ] 59% 0.6s\u001b[0K\u001b[1G82.2 MiB [============        ] 61% 0.6s\u001b[0K\u001b[1G82.2 MiB [=============       ] 63% 0.5s\u001b[0K\u001b[1G82.2 MiB [=============       ] 65% 0.5s\u001b[0K\u001b[1G82.2 MiB [==============      ] 67% 0.4s\u001b[0K\u001b[1G82.2 MiB [==============      ] 69% 0.4s\u001b[0K\u001b[1G82.2 MiB [==============      ] 70% 0.4s\u001b[0K\u001b[1G82.2 MiB [===============     ] 72% 0.4s\u001b[0K\u001b[1G82.2 MiB [===============     ] 75% 0.3s\u001b[0K\u001b[1G82.2 MiB [===============     ] 77% 0.3s\u001b[0K\u001b[1G82.2 MiB [================    ] 77% 0.3s\u001b[0K\u001b[1G82.2 MiB [================    ] 78% 0.3s\u001b[0K\u001b[1G82.2 MiB [================    ] 79% 0.3s\u001b[0K\u001b[1G82.2 MiB [================    ] 80% 0.3s\u001b[0K\u001b[1G82.2 MiB [=================   ] 82% 0.3s\u001b[0K\u001b[1G82.2 MiB [=================   ] 84% 0.2s\u001b[0K\u001b[1G82.2 MiB [=================   ] 87% 0.2s\u001b[0K\u001b[1G82.2 MiB [==================  ] 88% 0.2s\u001b[0K\u001b[1G82.2 MiB [==================  ] 89% 0.2s\u001b[0K\u001b[1G82.2 MiB [==================  ] 91% 0.1s\u001b[0K\u001b[1G82.2 MiB [=================== ] 93% 0.1s\u001b[0K\u001b[1G82.2 MiB [=================== ] 95% 0.1s\u001b[0K\u001b[1G82.2 MiB [====================] 97% 0.0s\u001b[0K\u001b[1G82.2 MiB [====================] 99% 0.0s\u001b[0K\u001b[1G82.2 MiB [====================] 100% 0.0s\u001b[0K\n",
      "Firefox 121.0 (playwright build v1438) downloaded to /home/brian/.cache/ms-playwright/firefox-1438\n",
      "Downloading Webkit 17.4 (playwright build v1967)\u001b[2m from https://playwright.azureedge.net/builds/webkit/1967/webkit-ubuntu-22.04.zip\u001b[22m\n",
      "\u001b[1G84.8 MiB [                    ] 0% 0.0s\u001b[0K\u001b[1G84.8 MiB [                    ] 0% 1.9s\u001b[0K\u001b[1G84.8 MiB [=                   ] 2% 1.2s\u001b[0K\u001b[1G84.8 MiB [=                   ] 4% 0.9s\u001b[0K\u001b[1G84.8 MiB [=                   ] 7% 0.8s\u001b[0K\u001b[1G84.8 MiB [==                  ] 8% 0.8s\u001b[0K\u001b[1G84.8 MiB [==                  ] 10% 0.8s\u001b[0K\u001b[1G84.8 MiB [===                 ] 12% 0.8s\u001b[0K\u001b[1G84.8 MiB [===                 ] 14% 0.7s\u001b[0K\u001b[1G84.8 MiB [===                 ] 16% 0.7s\u001b[0K\u001b[1G84.8 MiB [====                ] 19% 0.7s\u001b[0K\u001b[1G84.8 MiB [====                ] 20% 0.7s\u001b[0K\u001b[1G84.8 MiB [=====               ] 22% 0.6s\u001b[0K\u001b[1G84.8 MiB [=====               ] 24% 0.6s\u001b[0K\u001b[1G84.8 MiB [=====               ] 27% 0.6s\u001b[0K\u001b[1G84.8 MiB [======              ] 29% 0.6s\u001b[0K\u001b[1G84.8 MiB [======              ] 31% 0.6s\u001b[0K\u001b[1G84.8 MiB [=======             ] 33% 0.5s\u001b[0K\u001b[1G84.8 MiB [=======             ] 35% 0.5s\u001b[0K\u001b[1G84.8 MiB [=======             ] 37% 0.5s\u001b[0K\u001b[1G84.8 MiB [========            ] 39% 0.5s\u001b[0K\u001b[1G84.8 MiB [========            ] 41% 0.5s\u001b[0K\u001b[1G84.8 MiB [=========           ] 43% 0.5s\u001b[0K\u001b[1G84.8 MiB [=========           ] 45% 0.4s\u001b[0K\u001b[1G84.8 MiB [==========          ] 47% 0.4s\u001b[0K\u001b[1G84.8 MiB [==========          ] 49% 0.4s\u001b[0K\u001b[1G84.8 MiB [==========          ] 51% 0.4s\u001b[0K\u001b[1G84.8 MiB [===========         ] 54% 0.4s\u001b[0K\u001b[1G84.8 MiB [===========         ] 55% 0.4s\u001b[0K\u001b[1G84.8 MiB [============        ] 57% 0.3s\u001b[0K\u001b[1G84.8 MiB [============        ] 59% 0.3s\u001b[0K\u001b[1G84.8 MiB [============        ] 61% 0.3s\u001b[0K\u001b[1G84.8 MiB [=============       ] 64% 0.3s\u001b[0K\u001b[1G84.8 MiB [=============       ] 66% 0.3s\u001b[0K\u001b[1G84.8 MiB [==============      ] 68% 0.3s\u001b[0K\u001b[1G84.8 MiB [==============      ] 70% 0.2s\u001b[0K\u001b[1G84.8 MiB [==============      ] 72% 0.2s\u001b[0K\u001b[1G84.8 MiB [===============     ] 74% 0.2s\u001b[0K\u001b[1G84.8 MiB [===============     ] 76% 0.2s\u001b[0K\u001b[1G84.8 MiB [================    ] 78% 0.2s\u001b[0K\u001b[1G84.8 MiB [================    ] 80% 0.2s\u001b[0K\u001b[1G84.8 MiB [=================   ] 82% 0.1s\u001b[0K\u001b[1G84.8 MiB [=================   ] 84% 0.1s\u001b[0K\u001b[1G84.8 MiB [=================   ] 86% 0.1s\u001b[0K\u001b[1G84.8 MiB [==================  ] 88% 0.1s\u001b[0K\u001b[1G84.8 MiB [==================  ] 90% 0.1s\u001b[0K\u001b[1G84.8 MiB [=================== ] 93% 0.1s\u001b[0K\u001b[1G84.8 MiB [=================== ] 95% 0.0s\u001b[0K\u001b[1G84.8 MiB [=================== ] 97% 0.0s\u001b[0K\u001b[1G84.8 MiB [====================] 99% 0.0s\u001b[0K\u001b[1G84.8 MiB [====================] 100% 0.0s\u001b[0K\n",
      "Webkit 17.4 (playwright build v1967) downloaded to /home/brian/.cache/ms-playwright/webkit-1967\n",
      "\u001b[1G\u001b[0JNeed to install the following packages:\n",
      "  playwright\n",
      "Ok to proceed? (y) \u001b[20G"
     ]
    }
   ],
   "source": [
    "!apt-get update && apt-get install libx11-dev libxkbfile-dev libsecret-1-dev libnss3 libgbm-dev gconf-service libasound2 libatk1.0-0 libc6 libcairo2 libcups2 libdbus-1-3 \\\n",
    "    libexpat1 libfontconfig1 libgcc1 libgconf-2-4 libgdk-pixbuf2.0-0 libglib2.0-0 libgtk-3-0 libnspr4 \\\n",
    "    libpango-1.0-0 libpangocairo-1.0-0 libstdc++6 libx11-6 libx11-xcb1 libxcb1 libxcomposite1 \\\n",
    "    libxcursor1 libxdamage1 libxext6 libxfixes3 libxi6 libxrandr2 libxrender1 libxss1 libxtst6 \\\n",
    "    ca-certificates fonts-liberation libappindicator1 libnss3 lsb-release xdg-utils wget \\\n",
    "    xvfb x11vnc x11-xkb-utils xfonts-100dpi xfonts-75dpi xfonts-scalable xfonts-cyrillic x11-apps gconf-service libasound2 libatk1.0-0 libc6 libcairo2 libcups2 libdbus-1-3 libexpat1 libfontconfig1 libgcc1 libgconf-2-4 libgdk-pixbuf2.0-0 libglib2.0-0 libgtk-3-0 libnspr4 libpango-1.0-0 libpangocairo-1.0-0 libstdc++6 libx11-6 libx11-xcb1 libxcb1 libxcomposite1 libxcursor1 libxdamage1 libxext6 libxfixes3 libxi6 libxrandr2 libxrender1 libxss1 libxtst6 ca-certificates fonts-liberation libappindicator1 libnss3 lsb-release xdg-utils wget x11vnc x11-xkb-utils xfonts-100dpi xfonts-75dpi xfonts-scalable xfonts-cyrillic x11-apps xvfb\n",
    "\n",
    "%env DISPLAY=:99\n",
    "%env PYTHONUNBUFFERED=True\n",
    "\n",
    "!pip install schwab-api==0.2.2 --no-cache-dir\n",
    "!python -m playwright install\n",
    "!npx playwright install-deps"
   ]
  },
  {
   "cell_type": "markdown",
   "metadata": {
    "id": "94H9PLvK1iDp"
   },
   "source": [
    "# Write our script that we'll be running\n"
   ]
  },
  {
   "cell_type": "code",
   "execution_count": null,
   "metadata": {
    "id": "We8KtZjUVDZY"
   },
   "outputs": [],
   "source": [
    "%%writefile main.py\n",
    "from schwab_api import Schwab\n",
    "import pprint\n",
    "\n",
    "# Change these variables\n",
    "username = \"username\"\n",
    "password = \"password\"\n",
    "totp_secret = \"ABCDEFGHIJKLMNOPQRSTUVWXYZABCDEF\"\n",
    "\n",
    "# Create the schwab instance\n",
    "api = Schwab(\n",
    "    headless=True, \n",
    "    browserType=\"webkit\"\n",
    ")\n",
    "\n",
    "# Login using playwright\n",
    "print(\"Logging into Schwab\")\n",
    "logged_in = api.login(\n",
    "    username=username,\n",
    "    password=password,\n",
    "    totp_secret=totp_secret # Get this by generating TOTP at https://itsjafer.com/#/schwab\n",
    ")\n",
    "\n",
    "# Get information about all accounts holdings\n",
    "print(\"Getting account holdings information\")\n",
    "account_info = api.get_account_info()\n",
    "pprint.pprint(account_info)\n",
    "print(\"The following account numbers were found: \" + str(account_info.keys()))\n",
    "\n",
    "\n",
    "# Place a dry run trade for each account\n",
    "print(\"Placing a dry run trade for AAPL stock\")\n",
    "messages, success = api.trade(\n",
    "    ticker=\"AAPL\", \n",
    "    side=\"Buy\", #or Sell\n",
    "    qty=1, \n",
    "    account_id=next(iter(account_info)), # Replace with your account number\n",
    "    dry_run=True # If dry_run=True, we won't place the order, we'll just verify it.\n",
    ")\n",
    "\n",
    "print(\"The order verification was \" + \"successful\" if success else \"unsuccessful\")\n",
    "print(\"The order verification produced the following messages: \")\n",
    "pprint.pprint(messages)"
   ]
  },
  {
   "cell_type": "markdown",
   "metadata": {
    "id": "T353KYZ88_RF"
   },
   "source": [
    "# Run the script"
   ]
  },
  {
   "cell_type": "code",
   "execution_count": null,
   "metadata": {
    "id": "pxoXIr2H6Ior"
   },
   "outputs": [],
   "source": [
    "!python main.py"
   ]
  }
 ],
 "metadata": {
  "colab": {
   "authorship_tag": "ABX9TyPpC4JgQPyLcyoL9Y0swDjw",
   "collapsed_sections": [],
   "include_colab_link": true,
   "name": "Schwab API Example.ipynb",
   "provenance": [],
   "toc_visible": true
  },
  "kernelspec": {
   "display_name": "Python [conda env:testschwabapi]",
   "language": "python",
   "name": "conda-env-testschwabapi-py"
  },
  "language_info": {
   "codemirror_mode": {
    "name": "ipython",
    "version": 3
   },
   "file_extension": ".py",
   "mimetype": "text/x-python",
   "name": "python",
   "nbconvert_exporter": "python",
   "pygments_lexer": "ipython3",
   "version": "3.9.18"
  }
 },
 "nbformat": 4,
 "nbformat_minor": 4
}
